{
 "cells": [
  {
   "cell_type": "markdown",
   "metadata": {
    "collapsed": true
   },
   "source": [
    "This notebook contains my solutions to the first **12** Project Euler problems."
   ]
  },
  {
   "cell_type": "code",
   "execution_count": 3,
   "metadata": {
    "collapsed": true
   },
   "outputs": [],
   "source": [
    "import time\n",
    "import itertools\n",
    "import functools\n",
    "import math"
   ]
  },
  {
   "cell_type": "markdown",
   "metadata": {},
   "source": [
    "## Problem 1\n",
    "\n",
    "**Statement**\n",
    "\n",
    "If we list all the natural numbers below 10 that are multiples of 3 or 5, we get 3, 5, 6 and 9. The sum of these multiples is 23. Find the sum of all the multiples of 3 or 5 below 1000."
   ]
  },
  {
   "cell_type": "code",
   "execution_count": 53,
   "metadata": {
    "collapsed": false
   },
   "outputs": [
    {
     "name": "stdout",
     "output_type": "stream",
     "text": [
      "233168\n",
      "Executed in <0.001 seconds.\n"
     ]
    }
   ],
   "source": [
    "start_time = time.time()\n",
    "print(sum(filter(lambda n: (n % 3 == 0 or n % 5 == 0), range(1, 1000))))\n",
    "print(\"Executed in <%s seconds.\" % format((time.time() - start_time), '.3f'))"
   ]
  },
  {
   "cell_type": "markdown",
   "metadata": {},
   "source": [
    "## Problem 2\n",
    "\n",
    "**Statement**\n",
    "\n",
    "By considering the terms in the Fibonacci sequence whose values do not exceed four million, find the sum of the even-valued terms."
   ]
  },
  {
   "cell_type": "code",
   "execution_count": 52,
   "metadata": {
    "collapsed": false,
    "scrolled": true
   },
   "outputs": [
    {
     "name": "stdout",
     "output_type": "stream",
     "text": [
      "4613732\n",
      "Executed in <0.001 seconds.\n"
     ]
    }
   ],
   "source": [
    "def fib():\n",
    "    a = 0\n",
    "    b = 1\n",
    "    yield a\n",
    "    yield b\n",
    "    while True:\n",
    "        c = a + b\n",
    "        a = b\n",
    "        b = c\n",
    "        yield c\n",
    "\n",
    "start_time = time.time()\n",
    "print(sum([n for n in itertools.takewhile(lambda n: n < 4.0*10**6, fib()) if n % 2 == 0]))\n",
    "print(\"Executed in <%s seconds.\" % format((time.time() - start_time), '.3f'))"
   ]
  },
  {
   "cell_type": "markdown",
   "metadata": {},
   "source": [
    "## Problem 3\n",
    "\n",
    "**Statement**\n",
    "\n",
    "What is the largest prime factor of the number 600851475143?\n",
    "\n",
    "**Analysis**\n",
    "\n",
    "The brute force solution is far too slow, instead we use a [Sieve of Eratosthenes](https://en.wikipedia.org/wiki/Sieve_of_Eratosthenes). Note the easily verified fact that every potential prime factor $f_a$ of $n$ such that $f \\geq \\sqrt n$ necessarily has a cofactor $b$ such that $f_b \\leq \\sqrt n$, so we may stop our sieve there and then check the primality of cofactors to find the largest prime.\n",
    "\n",
    "List indices begin at 0, not 1. To compensate I elected to add an extra value and then sheer off the first value from the boolean field."
   ]
  },
  {
   "cell_type": "code",
   "execution_count": 455,
   "metadata": {
    "collapsed": false
   },
   "outputs": [
    {
     "name": "stdout",
     "output_type": "stream",
     "text": [
      "6857\n",
      "Executed in <0.580 seconds.\n"
     ]
    }
   ],
   "source": [
    "def primes_less_than(mx):\n",
    "    n = 2\n",
    "    # Add an extra value to the field to count 0...mx.\n",
    "    bool_field = [True]*(mx + 1)\n",
    "    for num in range(2, mx + 1):\n",
    "        if bool_field[num] == True:\n",
    "            for mult in range(2 * num, mx, num):\n",
    "                bool_field[mult] = False\n",
    "    # Remove 0 and 1 from the results.\n",
    "    return [n for n in range(len(bool_field)) if bool_field[n] == True][2:]\n",
    "\n",
    "def is_prime(n):\n",
    "    cp = primes_less_than(int(math.floor(math.sqrt(n))))\n",
    "    return True not in map(lambda p: n % p == 0, cp)\n",
    "\n",
    "def largest_prime_factor(n):\n",
    "    cp = primes_less_than(int(math.floor(math.sqrt(n))))\n",
    "    f_a = [p for p in cp if n % p == 0]\n",
    "    f_b = [int(n / p) for p in f_a if is_prime(int(n / p))]\n",
    "    if not cp or not f_a:\n",
    "        return n\n",
    "    return max(f_a + f_b)\n",
    "\n",
    "start_time = time.time()\n",
    "print(largest_prime_factor(600851475143))\n",
    "print(\"Executed in <%s seconds.\" % format((time.time() - start_time), '.3f'))"
   ]
  },
  {
   "cell_type": "markdown",
   "metadata": {
    "collapsed": true
   },
   "source": [
    "## Problem 4\n",
    "\n",
    "**Statement**\n",
    "\n",
    "A palindromic number reads the same both ways. The largest palindrome made from the product of two 2-digit numbers is 9009 = 91 × 99. Find the largest palindrome made from the product of two 3-digit numbers."
   ]
  },
  {
   "cell_type": "code",
   "execution_count": 462,
   "metadata": {
    "collapsed": false
   },
   "outputs": [
    {
     "name": "stdout",
     "output_type": "stream",
     "text": [
      "906609\n",
      "Executed in <0.240 seconds.\n"
     ]
    }
   ],
   "source": [
    "def is_palindrome(n):\n",
    "    return str(n) == str(n)[::-1]\n",
    "\n",
    "start_time = time.time()\n",
    "candidates = []\n",
    "for i in range(600, 999):\n",
    "    for j in range(600, 999):\n",
    "        if is_palindrome(i * j):\n",
    "            candidates.append(i * j)\n",
    "print(max(candidates))\n",
    "print(\"Executed in <%s seconds.\" % format((time.time() - start_time), '.3f'))"
   ]
  },
  {
   "cell_type": "markdown",
   "metadata": {},
   "source": [
    "## Problem 5\n",
    "\n",
    "**Statement**\n",
    "\n",
    "2520 is the smallest number that can be divided by each of the numbers from 1 to 10 without any remainder. What is the smallest positive number that is evenly divisible by all of the numbers from 1 to 20?\n",
    "\n",
    "**Analysis**\n",
    "\n",
    "This ought to be rephrased as: \"what is the [least common multiple](https://en.wikipedia.org/wiki/Least_common_multiple) of 1, ... , 20?\" A basic result from number theory is that such an LCM will be the maximum of the powers of the prime factorizations of the numbers.\n",
    "\n",
    "Since we are working with small numbers we will use a \"dirty\" unoptimized prime factorization algorithm."
   ]
  },
  {
   "cell_type": "code",
   "execution_count": 5,
   "metadata": {
    "collapsed": false
   },
   "outputs": [
    {
     "name": "stdout",
     "output_type": "stream",
     "text": [
      "232792560\n",
      "Executed in <0.001 seconds.\n"
     ]
    }
   ],
   "source": [
    "def factorize(n):\n",
    "    for i in range(2, math.floor(n / 2)):\n",
    "        if n % i == 0:\n",
    "            return [i] + factorize(n / i)\n",
    "    return [math.floor(n)]\n",
    "\n",
    "def merge(l1, l2):\n",
    "    ret = []\n",
    "    for f in (set(l1) | set(l2)):\n",
    "        ret += [f for numtimes in range(0, max(l1.count(f), l2.count(f)))]\n",
    "    return ret\n",
    "\n",
    "start_time = time.time()\n",
    "solution_factorized = []\n",
    "for f in range(20,1,-1):\n",
    "    solution_factorized = merge(solution_factorized, factorize(f))\n",
    "print(functools.reduce(lambda x, y: x * y, solution_factorized))\n",
    "print(\"Executed in <%s seconds.\" % format((time.time() - start_time), '.3f'))"
   ]
  },
  {
   "cell_type": "markdown",
   "metadata": {},
   "source": [
    "## Problem 6\n",
    "\n",
    "**Statement**\n",
    "\n",
    "The sum of the squares of the first ten natural numbers is $12 + 22 + ... + 102 = 385$. The square of the sum of the first ten natural numbers is $(1 + 2 + ... + 10)2 = 552 = 3025$. Hence the difference between the sum of the squares of the first ten natural numbers and the square of the sum is $3025 − 385 = 2640$.\n",
    "\n",
    "Find the difference between the sum of the squares of the first one hundred natural numbers and the square of the sum."
   ]
  },
  {
   "cell_type": "code",
   "execution_count": 519,
   "metadata": {
    "collapsed": false
   },
   "outputs": [
    {
     "name": "stdout",
     "output_type": "stream",
     "text": [
      "24174150\n",
      "Executed in <0.000 seconds.\n"
     ]
    }
   ],
   "source": [
    "start_time = time.time()\n",
    "print(abs(sum([n**2 for n in range(0, 100)]) - sum(range(0, 100))**2))\n",
    "print(\"Executed in <%s seconds.\" % format((time.time() - start_time), '.3f'))"
   ]
  },
  {
   "cell_type": "markdown",
   "metadata": {},
   "source": [
    "## Problem 7\n",
    "\n",
    "**Statement**\n",
    "\n",
    "By listing the first six prime numbers: 2, 3, 5, 7, 11, and 13, we can see that the 6th prime is 13. What is the 10,001st prime number?\n",
    "\n",
    "**Analysis**\n",
    "\n",
    "The brute force way (first solution) is to count up using the `is_prime()` method we defined earlier, in problem 3.\n",
    "\n",
    "The smarter way is to use the [prime number theorem](https://en.wikipedia.org/wiki/Prime_number_theorem): this theorem states that the prime numbers are asymptotically distributed, in particular with $p_n \\sim n\\log{n}$. So we build a sieve that's big enough to capture this number and run that instead!\n",
    "\n",
    "Math, you crazy."
   ]
  },
  {
   "cell_type": "code",
   "execution_count": 526,
   "metadata": {
    "collapsed": false
   },
   "outputs": [
    {
     "name": "stdout",
     "output_type": "stream",
     "text": [
      "104723\n",
      "Executed in <11.529 seconds.\n"
     ]
    }
   ],
   "source": [
    "start_time = time.time()\n",
    "i = n = 0\n",
    "while n < 10001:\n",
    "    if is_prime(i):\n",
    "        n += 1\n",
    "        i += 1\n",
    "    else:\n",
    "        i += 1\n",
    "print(i - 1)\n",
    "print(\"Executed in <%s seconds.\" % format((time.time() - start_time), '.3f'))"
   ]
  },
  {
   "cell_type": "code",
   "execution_count": 533,
   "metadata": {
    "collapsed": false
   },
   "outputs": [
    {
     "name": "stdout",
     "output_type": "stream",
     "text": [
      "104723\n",
      "Executed in <0.081 seconds.\n"
     ]
    }
   ],
   "source": [
    "start_time = time.time()\n",
    "print(primes_less_than(int(15000*math.log(10001)))[9998])\n",
    "print(\"Executed in <%s seconds.\" % format((time.time() - start_time), '.3f'))"
   ]
  },
  {
   "cell_type": "markdown",
   "metadata": {},
   "source": [
    "## Problem 8\n",
    "\n",
    "**Statement**\n",
    "\n",
    "Find the 13 adjacent digits in a crazy numeric sequence which have the highest total product."
   ]
  },
  {
   "cell_type": "code",
   "execution_count": 573,
   "metadata": {
    "collapsed": false
   },
   "outputs": [
    {
     "name": "stdout",
     "output_type": "stream",
     "text": [
      "23514624000\n",
      "Executed in <0.009 seconds.\n"
     ]
    }
   ],
   "source": [
    "n = '7316717653133062491922511967442657474235534919493496983520312774506326239578318016984801869478851843858615607891129494954595017379583319528532088055111254069874715852386305071569329096329522744304355766896648950445244523161731856403098711121722383113622298934233803081353362766142828064444866452387493035890729629049156044077239071381051585930796086670172427121883998797908792274921901699720888093776657273330010533678812202354218097512545405947522435258490771167055601360483958644670632441572215539753697817977846174064955149290862569321978468622482839722413756570560574902614079729686524145351004748216637048440319989000889524345065854122758866688116427171479924442928230863465674813919123162824586178664583591245665294765456828489128831426076900422421902267105562632111110937054421750694165896040807198403850962455444362981230987879927244284909188845801561660979191338754992005240636899125607176060588611646710940507754100225698315520005593572972571636269561882670428252483600823257530420752963450'\n",
    "\n",
    "def prod_digits(num):\n",
    "    s = 1\n",
    "    while num:\n",
    "        s *= (num % 10)\n",
    "        num /= 10\n",
    "        num = int(num)\n",
    "    return s\n",
    "\n",
    "start_time = time.time()\n",
    "nums = [int(n[i:i + 13]) for i in range(0, len(n) - 13)]\n",
    "products = [prod_digits(n) for n in nums]\n",
    "print(max(products))\n",
    "print(\"Executed in <%s seconds.\" % format((time.time() - start_time), '.3f'))"
   ]
  },
  {
   "cell_type": "markdown",
   "metadata": {
    "collapsed": false
   },
   "source": [
    "## Problem 9\n",
    "\n",
    "**Statement**\n",
    "\n",
    "There exists exactly one Pythagorean triplet for which $a + b + c = 1000$. Find the product $abc$.\n",
    "\n",
    "**Analysis**\n",
    "\n",
    "Through substitution we know that $a + b + \\sqrt{a^2 + b^2} = 1000$. We can find our answer by taking only values of a and b for which the latter value, $\\sqrt{a^2 + b^2}$, is a whole number, and then flinging them against 1000.\n",
    "\n",
    "There is a general property that all $c = 4n + 1$ for some $n$. So we can generate $c$ with which to test $a$ and $b$. It can be shown algebraically that, using the fact that the minimum value that any of the variables can take on is 1, the largest values they can take on are capped:\n",
    "\n",
    "* $c_{max} = 998$, implying that $n_{max} = 249$.\n",
    "* b_max given some n_max is demonstrably 998-4n.\n",
    "\n",
    "We iterate through this constrained range to create our $a$, then test it against the Pythagorean relationship. The first $a$ that proves sufficient is our answer."
   ]
  },
  {
   "cell_type": "code",
   "execution_count": 572,
   "metadata": {
    "collapsed": false
   },
   "outputs": [
    {
     "name": "stdout",
     "output_type": "stream",
     "text": [
      "31875000\n",
      "Executed in <0.267 seconds.\n"
     ]
    }
   ],
   "source": [
    "start_time = time.time()\n",
    "for n in range(1,250):\n",
    "    for b in range(1, 998 - 4*n):\n",
    "        c = 4*n + 1\n",
    "        a = 1000 - b - c\n",
    "        if a**2 + b**2 == c**2:\n",
    "            print(a*b*c)\n",
    "            break\n",
    "print(\"Executed in <%s seconds.\" % format((time.time() - start_time), '.3f'))"
   ]
  },
  {
   "cell_type": "markdown",
   "metadata": {},
   "source": [
    "## Problem 10\n",
    "\n",
    "**Statement**\n",
    "\n",
    "Find the sum of all primes below 2 million.\n",
    "\n",
    "**Analysis**\n",
    "\n",
    "Solved this back in question number 3!"
   ]
  },
  {
   "cell_type": "code",
   "execution_count": 575,
   "metadata": {
    "collapsed": false
   },
   "outputs": [
    {
     "name": "stdout",
     "output_type": "stream",
     "text": [
      "142915828922\n",
      "Executed in <1.356 seconds.\n"
     ]
    }
   ],
   "source": [
    "start_time = time.time()\n",
    "print(sum(primes_less_than(2*10**6)))\n",
    "print(\"Executed in <%s seconds.\" % format((time.time() - start_time), '.3f'))"
   ]
  },
  {
   "cell_type": "markdown",
   "metadata": {},
   "source": [
    "## Problem 11\n",
    "\n",
    "Actually I skipped this. It's a rehash of problem 8, except more annoying.\n"
   ]
  },
  {
   "cell_type": "markdown",
   "metadata": {},
   "source": [
    "## Problem 12\n",
    "\n",
    "**Statement**\n",
    "\n",
    "The sequence of triangle numbers is generated by adding the natural numbers. So the 7th triangle number would be $1 + 2 + 3 + 4 + 5 + 6 + 7 = 28$. The first ten terms would be:\n",
    "\n",
    "$1, 3, 6, 10, 15, 21, 28, 36, 45, 55, \\ldots$\n",
    "\n",
    "Let us list the factors of the first seven triangle numbers:\n",
    "\n",
    "     1: 1\n",
    "     3: 1,3\n",
    "     6: 1,2,3,6\n",
    "    10: 1,2,5,10\n",
    "    15: 1,3,5,15\n",
    "    21: 1,3,7,21\n",
    "    28: 1,2,4,7,14,28\n",
    "\n",
    "We can see that 28 is the first triangle number to have over five divisors.\n",
    "\n",
    "What is the value of the first triangle number to have over five hundred divisors?\n",
    "\n",
    "**Analysis**\n",
    "\n",
    "Per the [divisor function](https://en.wikipedia.org/wiki/Divisor_function), a result from number theory states that the number of divisors of some number $n$ with the prime factorization $\\prod_{i=1}^n p_i^{k_i}$ is given by:\n",
    "\n",
    "$$\\tau (n) = (k_1 + 1)(k_2 + 1)(...)(k_n + 1)$$\n",
    "\n",
    "For example:\n",
    "\n",
    "$$4200 = 2^33^15^27^1 \\rightarrow \\tau (4200) = (3+1)(1+1)(2+1)(1+1) = 48$$\n",
    "\n",
    "This gives us a fast way of counting the number of divisors of a triangle number."
   ]
  },
  {
   "cell_type": "code",
   "execution_count": 7,
   "metadata": {
    "collapsed": false
   },
   "outputs": [
    {
     "name": "stdout",
     "output_type": "stream",
     "text": [
      "76576500\n",
      "Executed in <7.350 seconds.\n"
     ]
    }
   ],
   "source": [
    "def count_divisors(num):\n",
    "    f = factorize(num)\n",
    "    return functools.reduce(lambda x, y: x * y, ([f.count(n) + 1 for n in set(f)]))\n",
    "\n",
    "def triangle_numbers():\n",
    "    n = 5\n",
    "    while True:\n",
    "        yield sum(range(1,n))\n",
    "        n += 1\n",
    "\n",
    "start_time = time.time()\n",
    "for t_n in triangle_numbers():\n",
    "   if count_divisors(t_n) > 500:\n",
    "        print(t_n)\n",
    "        break\n",
    "print(\"Executed in <%s seconds.\" % format((time.time() - start_time), '.3f'))"
   ]
  }
 ],
 "metadata": {
  "kernelspec": {
   "display_name": "Python 3",
   "language": "python",
   "name": "python3"
  },
  "language_info": {
   "codemirror_mode": {
    "name": "ipython",
    "version": 3
   },
   "file_extension": ".py",
   "mimetype": "text/x-python",
   "name": "python",
   "nbconvert_exporter": "python",
   "pygments_lexer": "ipython3",
   "version": "3.5.1"
  }
 },
 "nbformat": 4,
 "nbformat_minor": 0
}
