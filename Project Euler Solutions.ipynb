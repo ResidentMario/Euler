{
 "cells": [
  {
   "cell_type": "markdown",
   "metadata": {
    "collapsed": true
   },
   "source": [
    "# Project Euler\n",
    "\n",
    "I came to Python programming with some prior experience with Java and C programming, although I haven't written anything in either language in at least two years (C++ is probably my next target language after Python, though). Given the computational nature of my interests (and the fact that I was and remain an entirely self-taught programmer) the [Project Euler problems](https://projecteuler.net/archives) are an ideal way of learning the language.\n",
    "\n",
    "This notebook contains my solutions to the first **20** Project Euler problems."
   ]
  },
  {
   "cell_type": "code",
   "execution_count": 7,
   "metadata": {
    "collapsed": true
   },
   "outputs": [],
   "source": [
    "import time\n",
    "import itertools\n",
    "import functools\n",
    "import math"
   ]
  },
  {
   "cell_type": "markdown",
   "metadata": {},
   "source": [
    "## Problem 1\n",
    "\n",
    "**Statement**\n",
    "\n",
    "If we list all the natural numbers below 10 that are multiples of 3 or 5, we get 3, 5, 6 and 9. The sum of these multiples is 23. Find the sum of all the multiples of 3 or 5 below 1000."
   ]
  },
  {
   "cell_type": "code",
   "execution_count": 53,
   "metadata": {
    "collapsed": false
   },
   "outputs": [
    {
     "name": "stdout",
     "output_type": "stream",
     "text": [
      "233168\n",
      "Executed in <0.001 seconds.\n"
     ]
    }
   ],
   "source": [
    "start_time = time.time()\n",
    "print(sum(filter(lambda n: (n % 3 == 0 or n % 5 == 0), range(1, 1000))))\n",
    "print(\"Executed in <%s seconds.\" % format((time.time() - start_time), '.3f'))"
   ]
  },
  {
   "cell_type": "markdown",
   "metadata": {},
   "source": [
    "## Problem 2\n",
    "\n",
    "**Statement**\n",
    "\n",
    "By considering the terms in the Fibonacci sequence whose values do not exceed four million, find the sum of the even-valued terms."
   ]
  },
  {
   "cell_type": "code",
   "execution_count": 52,
   "metadata": {
    "collapsed": false,
    "scrolled": true
   },
   "outputs": [
    {
     "name": "stdout",
     "output_type": "stream",
     "text": [
      "4613732\n",
      "Executed in <0.001 seconds.\n"
     ]
    }
   ],
   "source": [
    "def fib():\n",
    "    a = 0\n",
    "    b = 1\n",
    "    yield a\n",
    "    yield b\n",
    "    while True:\n",
    "        c = a + b\n",
    "        a = b\n",
    "        b = c\n",
    "        yield c\n",
    "\n",
    "start_time = time.time()\n",
    "print(sum([n for n in itertools.takewhile(lambda n: n < 4.0*10**6, fib()) if n % 2 == 0]))\n",
    "print(\"Executed in <%s seconds.\" % format((time.time() - start_time), '.3f'))"
   ]
  },
  {
   "cell_type": "markdown",
   "metadata": {},
   "source": [
    "## Problem 3\n",
    "\n",
    "**Statement**\n",
    "\n",
    "What is the largest prime factor of the number 600851475143?\n",
    "\n",
    "**Analysis**\n",
    "\n",
    "The brute force solution is far too slow, instead we use a [Sieve of Eratosthenes](https://en.wikipedia.org/wiki/Sieve_of_Eratosthenes). Note the easily verified fact that every potential prime factor $f_a$ of $n$ such that $f \\geq \\sqrt n$ necessarily has a cofactor $b$ such that $f_b \\leq \\sqrt n$, so we may stop our sieve there and then check the primality of cofactors to find the largest prime.\n",
    "\n",
    "List indices begin at 0, not 1. To compensate I elected to add an extra value and then sheer off the first value from the boolean field."
   ]
  },
  {
   "cell_type": "code",
   "execution_count": 455,
   "metadata": {
    "collapsed": false
   },
   "outputs": [
    {
     "name": "stdout",
     "output_type": "stream",
     "text": [
      "6857\n",
      "Executed in <0.580 seconds.\n"
     ]
    }
   ],
   "source": [
    "def primes_less_than(mx):\n",
    "    n = 2\n",
    "    # Add an extra value to the field to count 0...mx.\n",
    "    bool_field = [True]*(mx + 1)\n",
    "    for num in range(2, mx + 1):\n",
    "        if bool_field[num] == True:\n",
    "            for mult in range(2 * num, mx, num):\n",
    "                bool_field[mult] = False\n",
    "    # Remove 0 and 1 from the results.\n",
    "    return [n for n in range(len(bool_field)) if bool_field[n] == True][2:]\n",
    "\n",
    "def is_prime(n):\n",
    "    cp = primes_less_than(int(math.floor(math.sqrt(n))))\n",
    "    return True not in map(lambda p: n % p == 0, cp)\n",
    "\n",
    "def largest_prime_factor(n):\n",
    "    cp = primes_less_than(int(math.floor(math.sqrt(n))))\n",
    "    f_a = [p for p in cp if n % p == 0]\n",
    "    f_b = [int(n / p) for p in f_a if is_prime(int(n / p))]\n",
    "    if not cp or not f_a:\n",
    "        return n\n",
    "    return max(f_a + f_b)\n",
    "\n",
    "start_time = time.time()\n",
    "print(largest_prime_factor(600851475143))\n",
    "print(\"Executed in <%s seconds.\" % format((time.time() - start_time), '.3f'))"
   ]
  },
  {
   "cell_type": "markdown",
   "metadata": {
    "collapsed": true
   },
   "source": [
    "## Problem 4\n",
    "\n",
    "**Statement**\n",
    "\n",
    "A palindromic number reads the same both ways. The largest palindrome made from the product of two 2-digit numbers is 9009 = 91 × 99. Find the largest palindrome made from the product of two 3-digit numbers."
   ]
  },
  {
   "cell_type": "code",
   "execution_count": 462,
   "metadata": {
    "collapsed": false
   },
   "outputs": [
    {
     "name": "stdout",
     "output_type": "stream",
     "text": [
      "906609\n",
      "Executed in <0.240 seconds.\n"
     ]
    }
   ],
   "source": [
    "def is_palindrome(n):\n",
    "    return str(n) == str(n)[::-1]\n",
    "\n",
    "start_time = time.time()\n",
    "candidates = []\n",
    "for i in range(600, 999):\n",
    "    for j in range(600, 999):\n",
    "        if is_palindrome(i * j):\n",
    "            candidates.append(i * j)\n",
    "print(max(candidates))\n",
    "print(\"Executed in <%s seconds.\" % format((time.time() - start_time), '.3f'))"
   ]
  },
  {
   "cell_type": "markdown",
   "metadata": {},
   "source": [
    "## Problem 5\n",
    "\n",
    "**Statement**\n",
    "\n",
    "2520 is the smallest number that can be divided by each of the numbers from 1 to 10 without any remainder. What is the smallest positive number that is evenly divisible by all of the numbers from 1 to 20?\n",
    "\n",
    "**Analysis**\n",
    "\n",
    "This ought to be rephrased as: \"what is the [least common multiple](https://en.wikipedia.org/wiki/Least_common_multiple) of 1, ... , 20?\" A basic result from number theory is that such an LCM will be the maximum of the powers of the prime factorizations of the numbers.\n",
    "\n",
    "Since we are working with small numbers we will use a \"dirty\" unoptimized prime factorization algorithm."
   ]
  },
  {
   "cell_type": "code",
   "execution_count": 5,
   "metadata": {
    "collapsed": false
   },
   "outputs": [
    {
     "name": "stdout",
     "output_type": "stream",
     "text": [
      "232792560\n",
      "Executed in <0.001 seconds.\n"
     ]
    }
   ],
   "source": [
    "def factorize(n):\n",
    "    for i in range(2, math.floor(n / 2)):\n",
    "        if n % i == 0:\n",
    "            return [i] + factorize(n / i)\n",
    "    return [math.floor(n)]\n",
    "\n",
    "def merge(l1, l2):\n",
    "    ret = []\n",
    "    for f in (set(l1) | set(l2)):\n",
    "        ret += [f for numtimes in range(0, max(l1.count(f), l2.count(f)))]\n",
    "    return ret\n",
    "\n",
    "start_time = time.time()\n",
    "solution_factorized = []\n",
    "for f in range(20,1,-1):\n",
    "    solution_factorized = merge(solution_factorized, factorize(f))\n",
    "print(functools.reduce(lambda x, y: x * y, solution_factorized))\n",
    "print(\"Executed in <%s seconds.\" % format((time.time() - start_time), '.3f'))"
   ]
  },
  {
   "cell_type": "markdown",
   "metadata": {},
   "source": [
    "## Problem 6\n",
    "\n",
    "**Statement**\n",
    "\n",
    "The sum of the squares of the first ten natural numbers is $12 + 22 + ... + 102 = 385$. The square of the sum of the first ten natural numbers is $(1 + 2 + ... + 10)2 = 552 = 3025$. Hence the difference between the sum of the squares of the first ten natural numbers and the square of the sum is $3025 − 385 = 2640$.\n",
    "\n",
    "Find the difference between the sum of the squares of the first one hundred natural numbers and the square of the sum."
   ]
  },
  {
   "cell_type": "code",
   "execution_count": 519,
   "metadata": {
    "collapsed": false
   },
   "outputs": [
    {
     "name": "stdout",
     "output_type": "stream",
     "text": [
      "24174150\n",
      "Executed in <0.000 seconds.\n"
     ]
    }
   ],
   "source": [
    "start_time = time.time()\n",
    "print(abs(sum([n**2 for n in range(0, 100)]) - sum(range(0, 100))**2))\n",
    "print(\"Executed in <%s seconds.\" % format((time.time() - start_time), '.3f'))"
   ]
  },
  {
   "cell_type": "markdown",
   "metadata": {},
   "source": [
    "## Problem 7\n",
    "\n",
    "**Statement**\n",
    "\n",
    "By listing the first six prime numbers: 2, 3, 5, 7, 11, and 13, we can see that the 6th prime is 13. What is the 10,001st prime number?\n",
    "\n",
    "**Analysis**\n",
    "\n",
    "The brute force way (first solution) is to count up using the `is_prime()` method we defined earlier, in problem 3.\n",
    "\n",
    "The smarter way is to use the [prime number theorem](https://en.wikipedia.org/wiki/Prime_number_theorem): this theorem states that the prime numbers are asymptotically distributed, in particular with $p_n \\sim n\\log{n}$. So we build a sieve that's big enough to capture this number and run that instead!\n",
    "\n",
    "Math, you crazy."
   ]
  },
  {
   "cell_type": "code",
   "execution_count": 526,
   "metadata": {
    "collapsed": false
   },
   "outputs": [
    {
     "name": "stdout",
     "output_type": "stream",
     "text": [
      "104723\n",
      "Executed in <11.529 seconds.\n"
     ]
    }
   ],
   "source": [
    "start_time = time.time()\n",
    "i = n = 0\n",
    "while n < 10001:\n",
    "    if is_prime(i):\n",
    "        n += 1\n",
    "        i += 1\n",
    "    else:\n",
    "        i += 1\n",
    "print(i - 1)\n",
    "print(\"Executed in <%s seconds.\" % format((time.time() - start_time), '.3f'))"
   ]
  },
  {
   "cell_type": "code",
   "execution_count": 533,
   "metadata": {
    "collapsed": false
   },
   "outputs": [
    {
     "name": "stdout",
     "output_type": "stream",
     "text": [
      "104723\n",
      "Executed in <0.081 seconds.\n"
     ]
    }
   ],
   "source": [
    "start_time = time.time()\n",
    "print(primes_less_than(int(15000*math.log(10001)))[9998])\n",
    "print(\"Executed in <%s seconds.\" % format((time.time() - start_time), '.3f'))"
   ]
  },
  {
   "cell_type": "markdown",
   "metadata": {},
   "source": [
    "## Problem 8\n",
    "\n",
    "**Statement**\n",
    "\n",
    "Find the 13 adjacent digits in a crazy numeric sequence which have the highest total product."
   ]
  },
  {
   "cell_type": "code",
   "execution_count": 573,
   "metadata": {
    "collapsed": false
   },
   "outputs": [
    {
     "name": "stdout",
     "output_type": "stream",
     "text": [
      "23514624000\n",
      "Executed in <0.009 seconds.\n"
     ]
    }
   ],
   "source": [
    "n = '7316717653133062491922511967442657474235534919493496983520312774506326239578318016984801869478851843858615607891129494954595017379583319528532088055111254069874715852386305071569329096329522744304355766896648950445244523161731856403098711121722383113622298934233803081353362766142828064444866452387493035890729629049156044077239071381051585930796086670172427121883998797908792274921901699720888093776657273330010533678812202354218097512545405947522435258490771167055601360483958644670632441572215539753697817977846174064955149290862569321978468622482839722413756570560574902614079729686524145351004748216637048440319989000889524345065854122758866688116427171479924442928230863465674813919123162824586178664583591245665294765456828489128831426076900422421902267105562632111110937054421750694165896040807198403850962455444362981230987879927244284909188845801561660979191338754992005240636899125607176060588611646710940507754100225698315520005593572972571636269561882670428252483600823257530420752963450'\n",
    "\n",
    "def prod_digits(num):\n",
    "    s = 1\n",
    "    while num:\n",
    "        s *= (num % 10)\n",
    "        num /= 10\n",
    "        num = int(num)\n",
    "    return s\n",
    "\n",
    "start_time = time.time()\n",
    "nums = [int(n[i:i + 13]) for i in range(0, len(n) - 13)]\n",
    "products = [prod_digits(n) for n in nums]\n",
    "print(max(products))\n",
    "print(\"Executed in <%s seconds.\" % format((time.time() - start_time), '.3f'))"
   ]
  },
  {
   "cell_type": "markdown",
   "metadata": {
    "collapsed": false
   },
   "source": [
    "## Problem 9\n",
    "\n",
    "**Statement**\n",
    "\n",
    "There exists exactly one Pythagorean triplet for which $a + b + c = 1000$. Find the product $abc$.\n",
    "\n",
    "**Analysis**\n",
    "\n",
    "Through substitution we know that $a + b + \\sqrt{a^2 + b^2} = 1000$. We can find our answer by taking only values of a and b for which the latter value, $\\sqrt{a^2 + b^2}$, is a whole number, and then flinging them against 1000.\n",
    "\n",
    "There is a general property that all $c = 4n + 1$ for some $n$. So we can generate $c$ with which to test $a$ and $b$. It can be shown algebraically that, using the fact that the minimum value that any of the variables can take on is 1, the largest values they can take on are capped:\n",
    "\n",
    "* $c_{max} = 998$, implying that $n_{max} = 249$.\n",
    "* b_max given some n_max is demonstrably 998-4n.\n",
    "\n",
    "We iterate through this constrained range to create our $a$, then test it against the Pythagorean relationship. The first $a$ that proves sufficient is our answer."
   ]
  },
  {
   "cell_type": "code",
   "execution_count": 572,
   "metadata": {
    "collapsed": false
   },
   "outputs": [
    {
     "name": "stdout",
     "output_type": "stream",
     "text": [
      "31875000\n",
      "Executed in <0.267 seconds.\n"
     ]
    }
   ],
   "source": [
    "start_time = time.time()\n",
    "for n in range(1,250):\n",
    "    for b in range(1, 998 - 4*n):\n",
    "        c = 4*n + 1\n",
    "        a = 1000 - b - c\n",
    "        if a**2 + b**2 == c**2:\n",
    "            print(a*b*c)\n",
    "            break\n",
    "print(\"Executed in <%s seconds.\" % format((time.time() - start_time), '.3f'))"
   ]
  },
  {
   "cell_type": "markdown",
   "metadata": {},
   "source": [
    "## Problem 10\n",
    "\n",
    "**Statement**\n",
    "\n",
    "Find the sum of all primes below 2 million.\n",
    "\n",
    "**Analysis**\n",
    "\n",
    "Solved this back in question number 3!"
   ]
  },
  {
   "cell_type": "code",
   "execution_count": 575,
   "metadata": {
    "collapsed": false
   },
   "outputs": [
    {
     "name": "stdout",
     "output_type": "stream",
     "text": [
      "142915828922\n",
      "Executed in <1.356 seconds.\n"
     ]
    }
   ],
   "source": [
    "start_time = time.time()\n",
    "print(sum(primes_less_than(2*10**6)))\n",
    "print(\"Executed in <%s seconds.\" % format((time.time() - start_time), '.3f'))"
   ]
  },
  {
   "cell_type": "markdown",
   "metadata": {},
   "source": [
    "## Problem 11\n",
    "\n",
    "What is the greatest product of four adjacent numbers in the same direction (up, down, left, right, or diagonally) in the given 20×20 grid?"
   ]
  },
  {
   "cell_type": "code",
   "execution_count": 103,
   "metadata": {
    "collapsed": false
   },
   "outputs": [
    {
     "name": "stdout",
     "output_type": "stream",
     "text": [
      "70600674\n",
      "Executed in <0.010 seconds.\n"
     ]
    }
   ],
   "source": [
    "grid = \"\"\"08 02 22 97 38 15 00 40 00 75 04 05 07 78 52 12 50 77 91 08\n",
    "49 49 99 40 17 81 18 57 60 87 17 40 98 43 69 48 04 56 62 00\n",
    "81 49 31 73 55 79 14 29 93 71 40 67 53 88 30 03 49 13 36 65\n",
    "52 70 95 23 04 60 11 42 69 24 68 56 01 32 56 71 37 02 36 91\n",
    "22 31 16 71 51 67 63 89 41 92 36 54 22 40 40 28 66 33 13 80\n",
    "24 47 32 60 99 03 45 02 44 75 33 53 78 36 84 20 35 17 12 50\n",
    "32 98 81 28 64 23 67 10 26 38 40 67 59 54 70 66 18 38 64 70\n",
    "67 26 20 68 02 62 12 20 95 63 94 39 63 08 40 91 66 49 94 21\n",
    "24 55 58 05 66 73 99 26 97 17 78 78 96 83 14 88 34 89 63 72\n",
    "21 36 23 09 75 00 76 44 20 45 35 14 00 61 33 97 34 31 33 95\n",
    "78 17 53 28 22 75 31 67 15 94 03 80 04 62 16 14 09 53 56 92\n",
    "16 39 05 42 96 35 31 47 55 58 88 24 00 17 54 24 36 29 85 57\n",
    "86 56 00 48 35 71 89 07 05 44 44 37 44 60 21 58 51 54 17 58\n",
    "19 80 81 68 05 94 47 69 28 73 92 13 86 52 17 77 04 89 55 40\n",
    "04 52 08 83 97 35 99 16 07 97 57 32 16 26 26 79 33 27 98 66\n",
    "88 36 68 87 57 62 20 72 03 46 33 67 46 55 12 32 63 93 53 69\n",
    "04 42 16 73 38 25 39 11 24 94 72 18 08 46 29 32 40 62 76 36\n",
    "20 69 36 41 72 30 23 88 34 62 99 69 82 67 59 85 74 04 36 16\n",
    "20 73 35 29 78 31 90 01 74 31 49 71 48 86 81 16 23 57 05 54\n",
    "01 70 54 71 83 51 54 69 16 92 33 48 61 43 52 01 89 19 67 48\n",
    "\"\"\"\n",
    "nums = [chunk.split(maxsplit=20) for chunk in [chunk for chunk in grid.split('\\n')]]\n",
    "\n",
    "def sequences(nums):\n",
    "    ret = []\n",
    "    for a, b in itertools.product(range(20), range(20)):\n",
    "        if a <= 16:\n",
    "            ret.append([nums[n][b] for n in range(a, a + 4)])\n",
    "        if b <= 16:\n",
    "            ret.append([nums[a][n] for n in range(b, b + 4)])\n",
    "        if a <= 16 and b <= 16:\n",
    "            ret.append([nums[a][b] for a, b in zip(range(a, a + 4), range(b, b + 4))])\n",
    "        if a <= 16 and b >= 3:\n",
    "            ret.append([nums[a][b] for a, b in zip(range(a, a + 4), range(b, b - 4, -1))])\n",
    "    return ret\n",
    "            \n",
    "for a, b in itertools.product(range(20), range(20)):\n",
    "    nums[a][b] = int(nums[a][b])\n",
    "start_time = time.time()\n",
    "print(max([functools.reduce(lambda x, y: x * y, subseq) for subseq in sequences(nums)]))\n",
    "print(\"Executed in <%s seconds.\" % format((time.time() - start_time), '.3f'))"
   ]
  },
  {
   "cell_type": "markdown",
   "metadata": {},
   "source": [
    "## Problem 12\n",
    "\n",
    "**Statement**\n",
    "\n",
    "The sequence of triangle numbers is generated by adding the natural numbers. So the 7th triangle number would be $1 + 2 + 3 + 4 + 5 + 6 + 7 = 28$. The first ten terms would be:\n",
    "\n",
    "$1, 3, 6, 10, 15, 21, 28, 36, 45, 55, \\ldots$\n",
    "\n",
    "Let us list the factors of the first seven triangle numbers:\n",
    "\n",
    "     1: 1\n",
    "     3: 1,3\n",
    "     6: 1,2,3,6\n",
    "    10: 1,2,5,10\n",
    "    15: 1,3,5,15\n",
    "    21: 1,3,7,21\n",
    "    28: 1,2,4,7,14,28\n",
    "\n",
    "We can see that 28 is the first triangle number to have over five divisors.\n",
    "\n",
    "What is the value of the first triangle number to have over five hundred divisors?\n",
    "\n",
    "**Analysis**\n",
    "\n",
    "Per the [divisor function](https://en.wikipedia.org/wiki/Divisor_function), a result from number theory states that the number of divisors of some number $n$ with the prime factorization $\\prod_{i=1}^n p_i^{k_i}$ is given by:\n",
    "\n",
    "$$\\tau (n) = (k_1 + 1)(k_2 + 1)(...)(k_n + 1)$$\n",
    "\n",
    "For example:\n",
    "\n",
    "$$4200 = 2^33^15^27^1 \\rightarrow \\tau (4200) = (3+1)(1+1)(2+1)(1+1) = 48$$\n",
    "\n",
    "This gives us a fast way of counting the number of divisors of a triangle number."
   ]
  },
  {
   "cell_type": "code",
   "execution_count": 7,
   "metadata": {
    "collapsed": false
   },
   "outputs": [
    {
     "name": "stdout",
     "output_type": "stream",
     "text": [
      "76576500\n",
      "Executed in <7.350 seconds.\n"
     ]
    }
   ],
   "source": [
    "def count_divisors(num):\n",
    "    f = factorize(num)\n",
    "    return functools.reduce(lambda x, y: x * y, ([f.count(n) + 1 for n in set(f)]))\n",
    "\n",
    "def triangle_numbers():\n",
    "    n = 5\n",
    "    while True:\n",
    "        yield sum(range(1,n))\n",
    "        n += 1\n",
    "\n",
    "start_time = time.time()\n",
    "for t_n in triangle_numbers():\n",
    "   if count_divisors(t_n) > 500:\n",
    "        print(t_n)\n",
    "        break\n",
    "print(\"Executed in <%s seconds.\" % format((time.time() - start_time), '.3f'))"
   ]
  },
  {
   "cell_type": "markdown",
   "metadata": {},
   "source": [
    "## Problem 13\n",
    "\n",
    "**Statement**\n",
    "\n",
    "Work out the first ten digits of the sum of the following (obnoxious) one-hundred 50-digit numbers."
   ]
  },
  {
   "cell_type": "code",
   "execution_count": 116,
   "metadata": {
    "collapsed": false
   },
   "outputs": [
    {
     "name": "stdout",
     "output_type": "stream",
     "text": [
      "5537376230\n",
      "Executed in <0.000 seconds.\n"
     ]
    }
   ],
   "source": [
    "grid = \"\"\"37107287533902102798797998220837590246510135740250\n",
    "46376937677490009712648124896970078050417018260538\n",
    "74324986199524741059474233309513058123726617309629\n",
    "91942213363574161572522430563301811072406154908250\n",
    "23067588207539346171171980310421047513778063246676\n",
    "89261670696623633820136378418383684178734361726757\n",
    "28112879812849979408065481931592621691275889832738\n",
    "44274228917432520321923589422876796487670272189318\n",
    "47451445736001306439091167216856844588711603153276\n",
    "70386486105843025439939619828917593665686757934951\n",
    "62176457141856560629502157223196586755079324193331\n",
    "64906352462741904929101432445813822663347944758178\n",
    "92575867718337217661963751590579239728245598838407\n",
    "58203565325359399008402633568948830189458628227828\n",
    "80181199384826282014278194139940567587151170094390\n",
    "35398664372827112653829987240784473053190104293586\n",
    "86515506006295864861532075273371959191420517255829\n",
    "71693888707715466499115593487603532921714970056938\n",
    "54370070576826684624621495650076471787294438377604\n",
    "53282654108756828443191190634694037855217779295145\n",
    "36123272525000296071075082563815656710885258350721\n",
    "45876576172410976447339110607218265236877223636045\n",
    "17423706905851860660448207621209813287860733969412\n",
    "81142660418086830619328460811191061556940512689692\n",
    "51934325451728388641918047049293215058642563049483\n",
    "62467221648435076201727918039944693004732956340691\n",
    "15732444386908125794514089057706229429197107928209\n",
    "55037687525678773091862540744969844508330393682126\n",
    "18336384825330154686196124348767681297534375946515\n",
    "80386287592878490201521685554828717201219257766954\n",
    "78182833757993103614740356856449095527097864797581\n",
    "16726320100436897842553539920931837441497806860984\n",
    "48403098129077791799088218795327364475675590848030\n",
    "87086987551392711854517078544161852424320693150332\n",
    "59959406895756536782107074926966537676326235447210\n",
    "69793950679652694742597709739166693763042633987085\n",
    "41052684708299085211399427365734116182760315001271\n",
    "65378607361501080857009149939512557028198746004375\n",
    "35829035317434717326932123578154982629742552737307\n",
    "94953759765105305946966067683156574377167401875275\n",
    "88902802571733229619176668713819931811048770190271\n",
    "25267680276078003013678680992525463401061632866526\n",
    "36270218540497705585629946580636237993140746255962\n",
    "24074486908231174977792365466257246923322810917141\n",
    "91430288197103288597806669760892938638285025333403\n",
    "34413065578016127815921815005561868836468420090470\n",
    "23053081172816430487623791969842487255036638784583\n",
    "11487696932154902810424020138335124462181441773470\n",
    "63783299490636259666498587618221225225512486764533\n",
    "67720186971698544312419572409913959008952310058822\n",
    "95548255300263520781532296796249481641953868218774\n",
    "76085327132285723110424803456124867697064507995236\n",
    "37774242535411291684276865538926205024910326572967\n",
    "23701913275725675285653248258265463092207058596522\n",
    "29798860272258331913126375147341994889534765745501\n",
    "18495701454879288984856827726077713721403798879715\n",
    "38298203783031473527721580348144513491373226651381\n",
    "34829543829199918180278916522431027392251122869539\n",
    "40957953066405232632538044100059654939159879593635\n",
    "29746152185502371307642255121183693803580388584903\n",
    "41698116222072977186158236678424689157993532961922\n",
    "62467957194401269043877107275048102390895523597457\n",
    "23189706772547915061505504953922979530901129967519\n",
    "86188088225875314529584099251203829009407770775672\n",
    "11306739708304724483816533873502340845647058077308\n",
    "82959174767140363198008187129011875491310547126581\n",
    "97623331044818386269515456334926366572897563400500\n",
    "42846280183517070527831839425882145521227251250327\n",
    "55121603546981200581762165212827652751691296897789\n",
    "32238195734329339946437501907836945765883352399886\n",
    "75506164965184775180738168837861091527357929701337\n",
    "62177842752192623401942399639168044983993173312731\n",
    "32924185707147349566916674687634660915035914677504\n",
    "99518671430235219628894890102423325116913619626622\n",
    "73267460800591547471830798392868535206946944540724\n",
    "76841822524674417161514036427982273348055556214818\n",
    "97142617910342598647204516893989422179826088076852\n",
    "87783646182799346313767754307809363333018982642090\n",
    "10848802521674670883215120185883543223812876952786\n",
    "71329612474782464538636993009049310363619763878039\n",
    "62184073572399794223406235393808339651327408011116\n",
    "66627891981488087797941876876144230030984490851411\n",
    "60661826293682836764744779239180335110989069790714\n",
    "85786944089552990653640447425576083659976645795096\n",
    "66024396409905389607120198219976047599490197230297\n",
    "64913982680032973156037120041377903785566085089252\n",
    "16730939319872750275468906903707539413042652315011\n",
    "94809377245048795150954100921645863754710598436791\n",
    "78639167021187492431995700641917969777599028300699\n",
    "15368713711936614952811305876380278410754449733078\n",
    "40789923115535562561142322423255033685442488917353\n",
    "44889911501440648020369068063960672322193204149535\n",
    "41503128880339536053299340368006977710650566631954\n",
    "81234880673210146739058568557934581403627822703280\n",
    "82616570773948327592232845941706525094512325230608\n",
    "22918802058777319719839450180888072429661980811197\n",
    "77158542502016545090413245809786882778948721859617\n",
    "72107838435069186155435662884062257473692284509516\n",
    "20849603980134001723930671666823555245252804609722\n",
    "53503534226472524250874054075591789781264330331690\"\"\"\n",
    "nums = list(map(lambda x: int(x), grid.split('\\n')))\n",
    "start_time = time.time()\n",
    "print(str(sum(nums))[:10])\n",
    "print(\"Executed in <%s seconds.\" % format((time.time() - start_time), '.3f'))"
   ]
  },
  {
   "cell_type": "markdown",
   "metadata": {},
   "source": [
    "## Problem 14\n",
    "\n",
    "**Statement**\n",
    "\n",
    "Which starting number, under one million, produces the longest [Collatz sequence](https://en.wikipedia.org/wiki/Collatz_conjecture)?\n",
    "\n",
    "**Analysis**\n",
    "\n",
    "The obvious brute force solution is to create a collatz algorithm and run that on every number from 1 to 1,000,000, but this takes minutes to process. We achieve a significant speedup by caching past results along the way."
   ]
  },
  {
   "cell_type": "code",
   "execution_count": 18,
   "metadata": {
    "collapsed": false
   },
   "outputs": [
    {
     "name": "stdout",
     "output_type": "stream",
     "text": [
      "837799\n",
      "Executed in <6.370 seconds.\n"
     ]
    }
   ],
   "source": [
    "def collatz_stepper(n):\n",
    "    while True:\n",
    "        if n == 1:\n",
    "            yield StopIteration\n",
    "        elif n % 2 == 0:\n",
    "            n = n / 2\n",
    "            yield int(n)\n",
    "        else:\n",
    "            n = int(3*n + 1)\n",
    "            yield n\n",
    "    \n",
    "def collatz_number_cached(n, cache):\n",
    "    collatz_number = 0\n",
    "    stp = collatz_stepper(n)\n",
    "    for cn in stp:\n",
    "        collatz_number += 1\n",
    "        if cn == 1:\n",
    "            return collatz_number\n",
    "        if cn in cache.keys():\n",
    "            collatz_number += cache[cn]\n",
    "            return collatz_number\n",
    "        else:\n",
    "            continue        \n",
    "\n",
    "cache = dict()\n",
    "max_collatz_terminand = 0\n",
    "max_collatz_number = 0\n",
    "start_time = time.time()\n",
    "for n in range(2, 10**6):\n",
    "    collatz_number = collatz_number_cached(n, cache)\n",
    "    cache[n] = collatz_number\n",
    "    if collatz_number > max_collatz_number:\n",
    "        max_collatz_number = collatz_number\n",
    "        max_collatz_terminand = n\n",
    "print(max_collatz_terminand)\n",
    "print(\"Executed in <%s seconds.\" % format((time.time() - start_time), '.3f'))"
   ]
  },
  {
   "cell_type": "markdown",
   "metadata": {},
   "source": [
    "## Problem 15\n",
    "\n",
    "**Statement**\n",
    "\n",
    "Starting in the top left corner of a 2×2 grid, and only being able to move to the right and down, there are exactly 6 routes to the bottom right corner. How many such routes are there through a 20×20 grid?\n",
    "\n",
    "**Analysis**\n",
    "\n",
    "This is a simple combinatorical problem. The solution is $40 \\choose{20}$."
   ]
  },
  {
   "cell_type": "code",
   "execution_count": 19,
   "metadata": {
    "collapsed": false
   },
   "outputs": [
    {
     "name": "stdout",
     "output_type": "stream",
     "text": [
      "137846528820.0\n",
      "Executed in <0.000 seconds.\n"
     ]
    }
   ],
   "source": [
    "def nCr(n,r):\n",
    "    f = math.factorial\n",
    "    return f(n) / f(r) / f(n-r)\n",
    "\n",
    "start_time = time.time()\n",
    "print(nCr(40, 20))\n",
    "print(\"Executed in <%s seconds.\" % format((time.time() - start_time), '.3f'))"
   ]
  },
  {
   "cell_type": "markdown",
   "metadata": {},
   "source": [
    "## Problem 16\n",
    "\n",
    "**Statement**\n",
    "\n",
    "$2^{15} = 32768$ and the sum of its digits is $3 + 2 + 7 + 6 + 8 = 26$. What is the sum of the digits of the number $2^{1000}$?\n",
    "\n",
    "**Analysis**\n",
    "\n",
    "There's no way to know this answer for sure without knowing all of the digits of the summation, but getting $2^{1000}$ isn't a problem: [squared exponentiation](https://en.wikipedia.org/wiki/Exponentiation_by_squaring) is supremely efficient."
   ]
  },
  {
   "cell_type": "code",
   "execution_count": 47,
   "metadata": {
    "collapsed": false
   },
   "outputs": [
    {
     "name": "stdout",
     "output_type": "stream",
     "text": [
      "1366\n",
      "Executed in <0.000 seconds.\n"
     ]
    }
   ],
   "source": [
    "start_time = time.time()\n",
    "print(sum(map(lambda n: int(n), list(str(2**1000)))))\n",
    "print(\"Executed in <%s seconds.\" % format((time.time() - start_time), '.3f'))"
   ]
  },
  {
   "cell_type": "markdown",
   "metadata": {},
   "source": [
    "## Problem 17\n",
    "\n",
    "**Statement**\n",
    "\n",
    "If the numbers 1 to 5 are written out in words: one, two, three, four, five, then there are 3 + 3 + 5 + 4 + 4 = 19 letters used in total. If all the numbers from 1 to 1000 (one thousand) inclusive were written out in words, how many letters would be used? Do not count spaces or hyphens. For example, 342 (three hundred and forty-two) contains 23 letters and 115 (one hundred and fifteen) contains 20 letters. The use of \"and\" when writing out numbers is in compliance with British usage.\n",
    "\n",
    "**Analysis**\n",
    "\n",
    "Another string interpretation problem..."
   ]
  },
  {
   "cell_type": "code",
   "execution_count": 84,
   "metadata": {
    "collapsed": false
   },
   "outputs": [
    {
     "name": "stdout",
     "output_type": "stream",
     "text": [
      "21124\n",
      "Executed in <0.004 seconds.\n"
     ]
    }
   ],
   "source": [
    "units = ['one', 'two', 'three', 'four', 'five', 'six', 'seven', 'eight', 'nine']\n",
    "unitary_tens = ['ten', 'eleven', 'twelve', 'thirteen', 'fourteen', 'fifteen', 'sixteen', 'seventeen', 'eighteen', 'nineteen']\n",
    "tens = ['ten', 'twenty', 'thirty', 'forty', 'fifty', 'sixty', 'seventy', 'eighty', 'ninety']\n",
    "places = ['hundred']\n",
    "\n",
    "def string_repr(n):\n",
    "    if n == 0:\n",
    "        return ''\n",
    "    elif n < 10:\n",
    "        return units[n - 1]\n",
    "    elif n < 20:\n",
    "        return unitary_tens[n - 10]\n",
    "    elif n < 100:\n",
    "        return tens[math.floor(n / 10) - 1] + ' ' + string_repr(n % 10)\n",
    "    elif n < 1000:\n",
    "        return units[math.floor(n / 100) - 1] + ' hundred and ' + string_repr(n % 100)\n",
    "\n",
    "start_time = time.time()\n",
    "s = [string_repr(n) for n in range(1, 999)] + ['thousand']\n",
    "tot = 0\n",
    "for n in s:\n",
    "    n = n.replace(' ', '')\n",
    "    # print(n)\n",
    "    tot += len(n)\n",
    "print(tot)\n",
    "print(\"Executed in <%s seconds.\" % format((time.time() - start_time), '.3f'))"
   ]
  },
  {
   "cell_type": "markdown",
   "metadata": {},
   "source": [
    "## Problem 18\n",
    "\n",
    "**Statement**\n",
    "\n",
    "Find the heighest-weighted total from amongst those present in the graph.\n",
    "\n",
    "**Note**\n",
    "\n",
    "I'll come back to this one later. Would be fun to try a hill-climber algorithm solution."
   ]
  },
  {
   "cell_type": "markdown",
   "metadata": {},
   "source": [
    "## Problem 19\n",
    "\n",
    "**Statement**\n",
    "\n",
    "    1 Jan 1900 was a Monday.\n",
    "    Thirty days has September,\n",
    "    April, June and November.\n",
    "    All the rest have thirty-one,\n",
    "    Saving February alone,\n",
    "    Which has twenty-eight, rain or shine.\n",
    "    And on leap years, twenty-nine.\n",
    "    A leap year occurs on any year evenly divisible by 4, but not on a century unless it is divisible by 400.\n",
    "\n",
    "How many Sundays fell on the first of the month during the twentieth century (1 Jan 1901 to 31 Dec 2000)?\n",
    "\n",
    "**Analysis**\n",
    "\n",
    "Wacky. This is a hand implementation, it would be easier to use the `arrow` package or the [Gaussian formula](https://en.wikipedia.org/wiki/Determination_of_the_day_of_the_week) but I wanted to do it by hand."
   ]
  },
  {
   "cell_type": "code",
   "execution_count": 133,
   "metadata": {
    "collapsed": false
   },
   "outputs": [
    {
     "name": "stdout",
     "output_type": "stream",
     "text": [
      "173\n",
      "Executed in <0.007 seconds.\n"
     ]
    }
   ],
   "source": [
    "class Date():\n",
    "    day = 6\n",
    "    month = 1\n",
    "    year = 1900\n",
    "    \n",
    "    def __init__(self):\n",
    "        pass\n",
    "    \n",
    "    def __repr__(self):\n",
    "        return str((self.year, self.month, self.day))\n",
    "    \n",
    "    def jump(self):\n",
    "        if self.month not in (2, 4, 6, 9, 11):\n",
    "            if self.day <= (31 - 7):\n",
    "                self.day += 7\n",
    "            else:\n",
    "                self.day = self.day + 7 - 31\n",
    "                if self.month <= 11:\n",
    "                    self.month += 1\n",
    "                else:\n",
    "                    self.month = 1\n",
    "                    self.year += 1\n",
    "        elif self.month in (4, 6, 9, 11):\n",
    "            if self.day <= (30 - 7):\n",
    "                self.day += 7\n",
    "            else:\n",
    "                self.day = self.day + 7 - 30\n",
    "                self.month += 1\n",
    "        elif self.month == 2:\n",
    "            if self.day <= (28 - 7):\n",
    "                self.day += 7\n",
    "            elif (self.year % 4 == 0 and self.year % 100 != 0) or (self.year % 4 == 0 and self.year % 400 == 0):\n",
    "                if self.day == 22:\n",
    "                    self.day += 7\n",
    "                else:\n",
    "                    self.day = self.day + 7 - 29\n",
    "                    self.month += 1\n",
    "            else:\n",
    "                self.day = self.day + 7 - 28\n",
    "                self.month += 1\n",
    "\n",
    "start_time = time.time()\n",
    "d = Date()\n",
    "first_day_saturdays = []\n",
    "while d.year < 2001:\n",
    "    d.jump()\n",
    "    if d.day == 1:\n",
    "        first_day_saturdays += [str(d)]\n",
    "print(len(first_day_saturdays))\n",
    "print(\"Executed in <%s seconds.\" % format((time.time() - start_time), '.3f'))"
   ]
  },
  {
   "cell_type": "markdown",
   "metadata": {},
   "source": [
    "## Problem 20\n",
    "\n",
    "**Statement**\n",
    "\n",
    "$n!$ means $n × (n − 1) × ... × 3 × 2 × 1$ For example, $10! = 10 × 9 × ... × 3 × 2 × 1 = 3628800$, and the sum of the digits in the number $10!$ is $3 + 6 + 2 + 8 + 8 + 0 + 0 = 27$. Find the sum of the digits in the number $100!$"
   ]
  },
  {
   "cell_type": "code",
   "execution_count": 88,
   "metadata": {
    "collapsed": false
   },
   "outputs": [
    {
     "name": "stdout",
     "output_type": "stream",
     "text": [
      "648\n",
      "Executed in <0.000 seconds.\n"
     ]
    }
   ],
   "source": [
    "start_time = time.time()\n",
    "print(sum([int(d) for d in list(str(math.factorial(100)))]))\n",
    "print(\"Executed in <%s seconds.\" % format((time.time() - start_time), '.3f'))"
   ]
  }
 ],
 "metadata": {
  "kernelspec": {
   "display_name": "Python 3",
   "language": "python",
   "name": "python3"
  },
  "language_info": {
   "codemirror_mode": {
    "name": "ipython",
    "version": 3
   },
   "file_extension": ".py",
   "mimetype": "text/x-python",
   "name": "python",
   "nbconvert_exporter": "python",
   "pygments_lexer": "ipython3",
   "version": "3.5.1"
  }
 },
 "nbformat": 4,
 "nbformat_minor": 0
}
